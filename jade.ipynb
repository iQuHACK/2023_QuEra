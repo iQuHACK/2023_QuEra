{
 "cells": [
  {
   "cell_type": "code",
   "execution_count": 1,
   "id": "f742a45b-deec-4907-9e31-f7080b33eba4",
   "metadata": {},
   "outputs": [
    {
     "name": "stdout",
     "output_type": "stream",
     "text": [
      "# installed environments:\n",
      "#\n",
      "qsharp                         /opt/.qbraid/environments/qsharp_b54crn\n",
      "default                  \u001b[0;31mjobs\u001b[0m  /opt/.qbraid/environments/qbraid_000000\n",
      "amazon_braket            \u001b[0;32mjobs\u001b[0m  /home/jovyan/.qbraid/environments/aws_braket_kwx6dl\n",
      "\n",
      "\u001b[0;35mYou have already enabled qBraid Quantum Jobs in the amazon_braket environment.\u001b[0m\n"
     ]
    }
   ],
   "source": [
    "#jade's file\n",
    "import braket\n",
    "!qbraid envs list\n",
    "!qbraid jobs enable amazon_braket"
   ]
  },
  {
   "cell_type": "code",
   "execution_count": null,
   "id": "bff30723-e0cd-4849-9434-a2b40b3e9979",
   "metadata": {},
   "outputs": [],
   "source": []
  }
 ],
 "metadata": {
  "kernelspec": {
   "display_name": "Python 3 [Braket]",
   "language": "python",
   "name": "python3_aws_braket_kwx6dl"
  },
  "language_info": {
   "codemirror_mode": {
    "name": "ipython",
    "version": 3
   },
   "file_extension": ".py",
   "mimetype": "text/x-python",
   "name": "python",
   "nbconvert_exporter": "python",
   "pygments_lexer": "ipython3",
   "version": "3.9.10"
  }
 },
 "nbformat": 4,
 "nbformat_minor": 5
}
