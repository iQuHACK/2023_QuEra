{
 "cells": [
  {
   "attachments": {},
   "cell_type": "markdown",
   "metadata": {},
   "source": [
    "# Chains\n",
    "A linear chain of three Rydberg atoms separated by the Rydberg blockade radius has the following form:\n",
    "$$\n",
    "H = \\Omega(t)(\\sigma^x_1+\\sigma^x_2+\\sigma_3^x) - \\Delta (\\sigma^z_1+\\sigma^z_2+\\sigma^z_3) + V(\\sigma^z_1\\sigma^z_2+\\sigma^z_2 \\sigma^z_3)\n",
    "$$\n",
    "The last term in the Hamiltonian has an assymetry, which is that the $\\sigma^z_2$ operator appears twice, whereas the $\\sigma^z_1$ and $\\sigma^z_3$ operator only appear once. \n",
    "1. How does this affect the energy levels?\n",
    "2. is the $|101\\rangle$ state more favored than the $|010\\rangle$ state?"
   ]
  },
  {
   "cell_type": "code",
   "execution_count": 7,
   "metadata": {},
   "outputs": [],
   "source": [
    "from qutip import sigmax, sigmaz, tensor, identity, basis\n",
    "\n",
    "Omega = .01\n",
    "delta = .001\n",
    "V = 5\n",
    "\n",
    "sigmax1 = tensor(sigmax(), identity(2), identity(2))\n",
    "sigmax2 = tensor(identity(2), sigmax(), identity(2))\n",
    "sigmax3 = tensor(identity(2), identity(2), sigmax())\n",
    "\n",
    "sigmaz1 = tensor(sigmaz(), identity(2), identity(2))\n",
    "sigmaz2 = tensor(identity(2), sigmaz(), identity(2))\n",
    "sigmaz3 = tensor(identity(2), identity(2), sigmaz())"
   ]
  },
  {
   "cell_type": "code",
   "execution_count": 8,
   "metadata": {},
   "outputs": [],
   "source": [
    "H = Omega * (sigmax1 + sigmax2 + sigmax3) - delta*(sigmaz1 + sigmaz2 + sigmaz3) + V * (sigmaz1*sigmaz2 + sigmaz2*sigmaz3)"
   ]
  },
  {
   "cell_type": "code",
   "execution_count": 9,
   "metadata": {},
   "outputs": [],
   "source": [
    "evals, estates = H.eigenstates()"
   ]
  },
  {
   "cell_type": "code",
   "execution_count": 10,
   "metadata": {},
   "outputs": [
    {
     "data": {
      "text/latex": [
       "Quantum object: dims = [[2, 2, 2], [1, 1, 1]], shape = (8, 1), type = ket\\begin{equation*}\\left(\\begin{array}{*{11}c}0.0\\\\0.0\\\\1.0\\\\0.0\\\\0.0\\\\0.0\\\\0.0\\\\0.0\\\\\\end{array}\\right)\\end{equation*}"
      ],
      "text/plain": [
       "Quantum object: dims = [[2, 2, 2], [1, 1, 1]], shape = (8, 1), type = ket\n",
       "Qobj data =\n",
       "[[0.]\n",
       " [0.]\n",
       " [1.]\n",
       " [0.]\n",
       " [0.]\n",
       " [0.]\n",
       " [0.]\n",
       " [0.]]"
      ]
     },
     "execution_count": 10,
     "metadata": {},
     "output_type": "execute_result"
    }
   ],
   "source": [
    "tensor(basis(2,0), basis(2,1), basis(2,0))"
   ]
  },
  {
   "cell_type": "code",
   "execution_count": 11,
   "metadata": {},
   "outputs": [
    {
     "data": {
      "text/plain": [
       "array([-10.001025  ,  -9.999025  ,  -0.01004988,  -0.0100498 ,\n",
       "         0.0100498 ,   0.01004988,   9.997025  ,  10.003025  ])"
      ]
     },
     "execution_count": 11,
     "metadata": {},
     "output_type": "execute_result"
    }
   ],
   "source": [
    "evals"
   ]
  },
  {
   "cell_type": "code",
   "execution_count": 12,
   "metadata": {},
   "outputs": [
    {
     "data": {
      "text/plain": [
       "array([Quantum object: dims = [[2, 2, 2], [1, 1, 1]], shape = (8, 1), type = ket\n",
       "       Qobj data =\n",
       "       [[ 5.00050337e-04]\n",
       "        [-1.51984195e-06]\n",
       "        [-9.99998875e-01]\n",
       "        [ 9.99798946e-04]\n",
       "        [-1.51984195e-06]\n",
       "        [ 1.99964686e-05]\n",
       "        [ 9.99798946e-04]\n",
       "        [-1.00959400e-06]]                                                      ,\n",
       "       Quantum object: dims = [[2, 2, 2], [1, 1, 1]], shape = (8, 1), type = ket\n",
       "       Qobj data =\n",
       "       [[-9.90393990e-07]\n",
       "        [ 1.00019888e-03]\n",
       "        [-2.00034686e-05]\n",
       "        [-1.48014201e-06]\n",
       "        [ 1.00019888e-03]\n",
       "        [-9.99998874e-01]\n",
       "        [-1.48014201e-06]\n",
       "        [ 4.99950297e-04]]                                                      ,\n",
       "       Quantum object: dims = [[2, 2, 2], [1, 1, 1]], shape = (8, 1), type = ket\n",
       "       Qobj data =\n",
       "       [[ 1.14624181e-12]\n",
       "        [-5.24286115e-01]\n",
       "        [ 1.04102837e-12]\n",
       "        [ 4.74472413e-01]\n",
       "        [ 5.24286114e-01]\n",
       "        [-1.15039212e-12]\n",
       "        [-4.74472412e-01]\n",
       "        [-1.03642203e-12]]                                                      ,\n",
       "       Quantum object: dims = [[2, 2, 2], [1, 1, 1]], shape = (8, 1), type = ket\n",
       "       Qobj data =\n",
       "       [[-0.00104688]\n",
       "        [ 0.52428525]\n",
       "        [-0.00095085]\n",
       "        [-0.47447126]\n",
       "        [ 0.52428525]\n",
       "        [ 0.00105068]\n",
       "        [-0.47447126]\n",
       "        [ 0.00094666]]                                                          ,\n",
       "       Quantum object: dims = [[2, 2, 2], [1, 1, 1]], shape = (8, 1), type = ket\n",
       "       Qobj data =\n",
       "       [[ 0.00095123]\n",
       "        [-0.47447126]\n",
       "        [-0.00104646]\n",
       "        [-0.52428525]\n",
       "        [-0.47447126]\n",
       "        [-0.00094704]\n",
       "        [-0.52428525]\n",
       "        [ 0.00105026]]                                                          ,\n",
       "       Quantum object: dims = [[2, 2, 2], [1, 1, 1]], shape = (8, 1), type = ket\n",
       "       Qobj data =\n",
       "       [[ 0.00000000e+00]\n",
       "        [ 4.74472412e-01]\n",
       "        [-1.03120290e-12]\n",
       "        [ 5.24286114e-01]\n",
       "        [-4.74472413e-01]\n",
       "        [ 0.00000000e+00]\n",
       "        [-5.24286115e-01]\n",
       "        [ 1.03501582e-12]]                                                      ,\n",
       "       Quantum object: dims = [[2, 2, 2], [1, 1, 1]], shape = (8, 1), type = ket\n",
       "       Qobj data =\n",
       "       [[ 9.99998875e-01]\n",
       "        [ 1.00019890e-03]\n",
       "        [ 5.00050311e-04]\n",
       "        [ 1.49417301e-06]\n",
       "        [ 1.00019890e-03]\n",
       "        [ 9.97061998e-07]\n",
       "        [ 1.49417301e-06]\n",
       "        [-6.67014396e-06]]                                                      ,\n",
       "       Quantum object: dims = [[2, 2, 2], [1, 1, 1]], shape = (8, 1), type = ket\n",
       "       Qobj data =\n",
       "       [[-6.66314401e-06]\n",
       "        [-1.50580631e-06]\n",
       "        [-1.00292866e-06]\n",
       "        [-9.99798925e-04]\n",
       "        [-1.50580631e-06]\n",
       "        [-4.99950324e-04]\n",
       "        [-9.99798925e-04]\n",
       "        [-9.99998875e-01]]                                                      ],\n",
       "      dtype=object)"
      ]
     },
     "execution_count": 12,
     "metadata": {},
     "output_type": "execute_result"
    }
   ],
   "source": [
    "estates"
   ]
  },
  {
   "cell_type": "code",
   "execution_count": null,
   "metadata": {},
   "outputs": [],
   "source": []
  },
  {
   "cell_type": "code",
   "execution_count": null,
   "metadata": {},
   "outputs": [],
   "source": []
  }
 ],
 "metadata": {
  "kernelspec": {
   "display_name": "quera",
   "language": "python",
   "name": "python3"
  },
  "language_info": {
   "codemirror_mode": {
    "name": "ipython",
    "version": 3
   },
   "file_extension": ".py",
   "mimetype": "text/x-python",
   "name": "python",
   "nbconvert_exporter": "python",
   "pygments_lexer": "ipython3",
   "version": "3.10.9"
  },
  "orig_nbformat": 4,
  "vscode": {
   "interpreter": {
    "hash": "820de3379c6a0c88e8a13e1503ee06aa36fc851f8ff49d5c8249e8714c6d8d78"
   }
  }
 },
 "nbformat": 4,
 "nbformat_minor": 2
}
