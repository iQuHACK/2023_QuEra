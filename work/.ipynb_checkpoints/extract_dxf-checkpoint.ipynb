{
 "cells": [
  {
   "cell_type": "code",
   "execution_count": 26,
   "id": "6428960c-1cef-4ff3-a8aa-6a4001e8440d",
   "metadata": {},
   "outputs": [],
   "source": [
    "import sys\n",
    "import ezdxf\n",
    "import numpy as np\n",
    "import matplotlib.pyplot as plt"
   ]
  },
  {
   "cell_type": "code",
   "execution_count": 62,
   "id": "cad6b8d4-607a-4b94-ac89-783ff1794c22",
   "metadata": {},
   "outputs": [],
   "source": [
    "try:\n",
    "    doc = ezdxf.readfile(\"quackbone v4.dxf\")\n",
    "except IOError:\n",
    "    print(f\"No such file.\")\n",
    "except ezdxf.DXFStructureError:\n",
    "    print(f\"Bad DXF file.\")"
   ]
  },
  {
   "cell_type": "code",
   "execution_count": 63,
   "id": "eb93f05b-c49b-4f9a-af4d-72029050e1c3",
   "metadata": {},
   "outputs": [],
   "source": [
    "def half_round(x):\n",
    "    return 0 + np.round(x * 2) / 2"
   ]
  },
  {
   "cell_type": "code",
   "execution_count": 64,
   "id": "fa89220e-8309-4583-af10-727bbebac1ba",
   "metadata": {},
   "outputs": [
    {
     "data": {
      "text/plain": [
       "array([[0.00000000e+00, 2.43000000e+01],\n",
       "       [1.95399252e-14, 5.53000000e+01],\n",
       "       [2.04281037e-14, 3.98000000e+01],\n",
       "       [3.50830476e-14, 8.80000000e+00],\n",
       "       [2.50000000e+00, 0.00000000e+00],\n",
       "       [2.50000000e+00, 1.55000000e+01],\n",
       "       [2.50000000e+00, 3.10000000e+01],\n",
       "       [2.50000000e+00, 4.65000000e+01],\n",
       "       [2.50000000e+00, 6.20000000e+01],\n",
       "       [7.50000000e+00, 8.80000000e+00],\n",
       "       [7.50000000e+00, 2.43000000e+01],\n",
       "       [7.50000000e+00, 3.98000000e+01],\n",
       "       [7.50000000e+00, 5.53000000e+01],\n",
       "       [7.50000000e+00, 7.08000000e+01],\n",
       "       [7.50000000e+00, 4.40000000e+00],\n",
       "       [7.50000000e+00, 1.99000000e+01],\n",
       "       [7.50000000e+00, 3.54000000e+01],\n",
       "       [7.50000000e+00, 5.09000000e+01],\n",
       "       [7.50000000e+00, 6.64000000e+01],\n",
       "       [1.25000000e+01, 0.00000000e+00],\n",
       "       [1.25000000e+01, 1.55000000e+01],\n",
       "       [1.25000000e+01, 3.10000000e+01],\n",
       "       [1.25000000e+01, 4.65000000e+01],\n",
       "       [1.25000000e+01, 6.20000000e+01],\n",
       "       [1.75000000e+01, 8.80000000e+00],\n",
       "       [1.75000000e+01, 2.43000000e+01],\n",
       "       [1.75000000e+01, 3.98000000e+01],\n",
       "       [1.75000000e+01, 5.53000000e+01],\n",
       "       [1.75000000e+01, 7.08000000e+01],\n",
       "       [1.75000000e+01, 4.40000000e+00],\n",
       "       [1.75000000e+01, 1.99000000e+01],\n",
       "       [1.75000000e+01, 3.54000000e+01],\n",
       "       [1.75000000e+01, 5.09000000e+01],\n",
       "       [1.75000000e+01, 6.64000000e+01],\n",
       "       [2.25000000e+01, 0.00000000e+00],\n",
       "       [2.25000000e+01, 1.55000000e+01],\n",
       "       [2.25000000e+01, 3.10000000e+01],\n",
       "       [2.25000000e+01, 4.65000000e+01],\n",
       "       [2.25000000e+01, 6.20000000e+01],\n",
       "       [2.75000000e+01, 4.40000000e+00],\n",
       "       [2.75000000e+01, 8.80000000e+00],\n",
       "       [2.75000000e+01, 1.99000000e+01],\n",
       "       [2.75000000e+01, 2.43000000e+01],\n",
       "       [2.75000000e+01, 3.54000000e+01],\n",
       "       [2.75000000e+01, 3.98000000e+01],\n",
       "       [2.75000000e+01, 5.09000000e+01],\n",
       "       [2.75000000e+01, 5.53000000e+01],\n",
       "       [2.75000000e+01, 6.64000000e+01],\n",
       "       [2.75000000e+01, 7.08000000e+01],\n",
       "       [3.25000000e+01, 0.00000000e+00],\n",
       "       [3.25000000e+01, 1.55000000e+01],\n",
       "       [3.25000000e+01, 3.10000000e+01],\n",
       "       [3.25000000e+01, 4.65000000e+01],\n",
       "       [3.25000000e+01, 6.20000000e+01],\n",
       "       [3.75000000e+01, 4.40000000e+00],\n",
       "       [3.75000000e+01, 8.80000000e+00],\n",
       "       [3.75000000e+01, 1.99000000e+01],\n",
       "       [3.75000000e+01, 2.43000000e+01],\n",
       "       [3.75000000e+01, 3.54000000e+01],\n",
       "       [3.75000000e+01, 3.98000000e+01],\n",
       "       [3.75000000e+01, 5.09000000e+01],\n",
       "       [3.75000000e+01, 5.53000000e+01],\n",
       "       [3.75000000e+01, 6.64000000e+01],\n",
       "       [3.75000000e+01, 7.08000000e+01],\n",
       "       [4.25000000e+01, 0.00000000e+00],\n",
       "       [4.25000000e+01, 1.55000000e+01],\n",
       "       [4.25000000e+01, 3.10000000e+01],\n",
       "       [4.25000000e+01, 4.65000000e+01],\n",
       "       [4.25000000e+01, 6.20000000e+01],\n",
       "       [4.75000000e+01, 4.40000000e+00],\n",
       "       [4.75000000e+01, 8.80000000e+00],\n",
       "       [4.75000000e+01, 1.99000000e+01],\n",
       "       [4.75000000e+01, 2.43000000e+01],\n",
       "       [4.75000000e+01, 3.54000000e+01],\n",
       "       [4.75000000e+01, 3.98000000e+01],\n",
       "       [4.75000000e+01, 5.09000000e+01],\n",
       "       [4.75000000e+01, 5.53000000e+01],\n",
       "       [4.75000000e+01, 6.64000000e+01],\n",
       "       [4.75000000e+01, 7.08000000e+01],\n",
       "       [5.25000000e+01, 0.00000000e+00],\n",
       "       [5.25000000e+01, 1.55000000e+01],\n",
       "       [5.25000000e+01, 3.10000000e+01],\n",
       "       [5.25000000e+01, 4.65000000e+01],\n",
       "       [5.25000000e+01, 6.20000000e+01],\n",
       "       [5.75000000e+01, 4.40000000e+00],\n",
       "       [5.75000000e+01, 8.80000000e+00],\n",
       "       [5.75000000e+01, 1.99000000e+01],\n",
       "       [5.75000000e+01, 2.43000000e+01],\n",
       "       [5.75000000e+01, 3.54000000e+01],\n",
       "       [5.75000000e+01, 3.98000000e+01],\n",
       "       [5.75000000e+01, 5.09000000e+01],\n",
       "       [5.75000000e+01, 5.53000000e+01],\n",
       "       [5.75000000e+01, 6.64000000e+01],\n",
       "       [5.75000000e+01, 7.08000000e+01],\n",
       "       [6.25000000e+01, 0.00000000e+00],\n",
       "       [6.25000000e+01, 1.55000000e+01],\n",
       "       [6.25000000e+01, 3.10000000e+01],\n",
       "       [6.25000000e+01, 4.65000000e+01],\n",
       "       [6.25000000e+01, 6.20000000e+01]])"
      ]
     },
     "execution_count": 64,
     "metadata": {},
     "output_type": "execute_result"
    }
   ],
   "source": [
    "msp = doc.modelspace()\n",
    "line_verts = []\n",
    "for e in msp:\n",
    "    line_verts.append([e.dxf.start[0], e.dxf.start[1]])\n",
    "    line_verts.append([e.dxf.end[0], e.dxf.end[1]])\n",
    "line_verts = np.array(line_verts)\n",
    "# points = np.unique(half_round(line_verts), axis = 0)\n",
    "points = np.unique(line_verts, axis = 0)\n",
    "x_min = np.min(points[:,0])\n",
    "y_min = np.min(points[:,1])\n",
    "points = points - np.array([x_min, y_min])\n",
    "points"
   ]
  },
  {
   "cell_type": "code",
   "execution_count": 65,
   "id": "75c6f0a3-2d9d-41dd-90d6-634acc90c130",
   "metadata": {},
   "outputs": [
    {
     "name": "stdout",
     "output_type": "stream",
     "text": [
      "There are 99 atoms.\n"
     ]
    },
    {
     "data": {
      "image/png": "[encoded data removed]",
      "text/plain": [
       "<Figure size 432x288 with 1 Axes>"
      ]
     },
     "metadata": {
      "needs_background": "light"
     },
     "output_type": "display_data"
    }
   ],
   "source": [
    "plt.scatter(points[:,0], points[:,1])\n",
    "plt.gca().set_aspect('equal')\n",
    "print(f\"There are {len(points)} atoms.\")"
   ]
  },
  {
   "cell_type": "code",
   "execution_count": 66,
   "id": "a1b7066d-197b-466d-bf09-1abf2461ae71",
   "metadata": {},
   "outputs": [],
   "source": [
    "np.save(\"quackbone v4.npy\", points)"
   ]
  },
  {
   "cell_type": "code",
   "execution_count": null,
   "id": "cbc9e441-ea6b-4785-95ed-a960ab87d3a1",
   "metadata": {},
   "outputs": [],
   "source": []
  },
  {
   "cell_type": "code",
   "execution_count": null,
   "id": "472db47c-4f18-4c69-abcc-02ff2b5cf538",
   "metadata": {},
   "outputs": [],
   "source": []
  }
 ],
 "metadata": {
  "kernelspec": {
   "display_name": "Python 3 [Braket]",
   "language": "python",
   "name": "python3_aws_braket_kwx6dl"
  },
  "language_info": {
   "codemirror_mode": {
    "name": "ipython",
    "version": 3
   },
   "file_extension": ".py",
   "mimetype": "text/x-python",
   "name": "python",
   "nbconvert_exporter": "python",
   "pygments_lexer": "ipython3",
   "version": "3.9.10"
  }
 },
 "nbformat": 4,
 "nbformat_minor": 5
}
