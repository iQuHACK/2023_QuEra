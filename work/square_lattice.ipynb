{
 "cells": [
  {
   "cell_type": "code",
   "execution_count": null,
   "id": "3d048817-103f-4ca3-8a5a-6a5e87036058",
   "metadata": {},
   "outputs": [],
   "source": [
    "!qbraid jobs enable amazon_braket"
   ]
  },
  {
   "cell_type": "code",
   "execution_count": 77,
   "id": "42803af8-093b-4b4c-9b60-f3a41c44e1cf",
   "metadata": {},
   "outputs": [],
   "source": [
    "import numpy as np\n",
    "import json\n",
    "import matplotlib.pyplot as plt\n",
    "from pprint import pprint as pp\n",
    "import networkx as nx\n",
    "\n",
    "from braket.aws import AwsDevice\n",
    "from braket.ahs.atom_arrangement import AtomArrangement\n",
    "from braket.ahs.analog_hamiltonian_simulation import AnalogHamiltonianSimulation\n",
    "from braket.devices import LocalSimulator\n",
    "\n",
    "from quera_ahs_utils.plotting import show_global_drive, show_register\n",
    "from quera_ahs_utils.drive import get_drive \n",
    "\n",
    "from iquhack_utils import find_UDG_radius, visualize_graph, get_blockade_radius, get_graph_from_blockade_radius, C6, save_result_json, open_json\n",
    "\n",
    "from utils import postprocess_MIS, analysis_MIS"
   ]
  },
  {
   "cell_type": "code",
   "execution_count": 78,
   "id": "731287c5-8f76-41b0-967e-cd23924dfa01",
   "metadata": {},
   "outputs": [],
   "source": [
    "plt.rcParams['figure.dpi'] = 140"
   ]
  },
  {
   "cell_type": "code",
   "execution_count": 79,
   "id": "ff67e972-f4bb-4b02-9476-a084b4061d9c",
   "metadata": {},
   "outputs": [
    {
     "name": "stdout",
     "output_type": "stream",
     "text": [
      "{'braketSchemaHeader': {'name': 'braket.device_schema.quera.quera_ahs_paradigm_properties',\n",
      "                        'version': '1'},\n",
      " 'lattice': {'area': {'height': Decimal('0.000076'),\n",
      "                      'width': Decimal('0.000075')},\n",
      "             'geometry': {'numberSitesMax': 256,\n",
      "                          'positionResolution': Decimal('1E-7'),\n",
      "                          'spacingRadialMin': Decimal('0.000004'),\n",
      "                          'spacingVerticalMin': Decimal('0.000004')}},\n",
      " 'performance': {'lattice': {'positionErrorAbs': Decimal('1E-7')},\n",
      "                 'rydberg': {'rydbergGlobal': {'rabiFrequencyErrorRel': Decimal('0.02')}}},\n",
      " 'qubitCount': 256,\n",
      " 'rydberg': {'c6Coefficient': Decimal('5.42E-24'),\n",
      "             'rydbergGlobal': {'detuningRange': (Decimal('-125000000.0'),\n",
      "                                                 Decimal('125000000.0')),\n",
      "                               'detuningResolution': Decimal('0.2'),\n",
      "                               'detuningSlewRateMax': Decimal('2500000000000000.0'),\n",
      "                               'phaseRange': (Decimal('-99.0'),\n",
      "                                              Decimal('99.0')),\n",
      "                               'phaseResolution': Decimal('5E-7'),\n",
      "                               'rabiFrequencyRange': (Decimal('0.0'),\n",
      "                                                      Decimal('15800000.0')),\n",
      "                               'rabiFrequencyResolution': Decimal('400.0'),\n",
      "                               'rabiFrequencySlewRateMax': Decimal('250000000000000.0'),\n",
      "                               'timeDeltaMin': Decimal('5E-8'),\n",
      "                               'timeMax': Decimal('0.000004'),\n",
      "                               'timeMin': Decimal('0.0'),\n",
      "                               'timeResolution': Decimal('1E-9')}}}\n"
     ]
    }
   ],
   "source": [
    "qpu = AwsDevice(\"arn:aws:braket:us-east-1::device/qpu/quera/Aquila\")\n",
    "capabilities = qpu.properties.paradigm\n",
    "pp(capabilities.dict())\n",
    "\n",
    "C6 = float(capabilities.rydberg.dict()['c6Coefficient']) # rad m^6/sec"
   ]
  },
  {
   "cell_type": "code",
   "execution_count": 8,
   "id": "60bf56cd-376e-4b11-9aa2-216ef47b4c16",
   "metadata": {},
   "outputs": [],
   "source": [
    "def square_lattice(num_rows, num_cols):\n",
    "    points = []\n",
    "    \n",
    "    num_centers = num_rows * num_cols\n",
    "    num_corners = (num_rows + 1) * (num_cols + 1)\n",
    "    graph_connections = []\n",
    "    \n",
    "    # Build corners\n",
    "    for row in range(num_rows + 1):\n",
    "        for col in range(num_cols + 1):\n",
    "            start = np.array([col, row])\n",
    "            points.append(start)\n",
    "            \n",
    "    # Build centers\n",
    "    curr_id = num_corners\n",
    "    for row in range(num_rows):\n",
    "        for col in range(num_cols):\n",
    "            start = np.array([col, row])\n",
    "            points.append(start + np.array([1/2, 1/2]))\n",
    "            bottomleft_corner_id = row * (num_cols + 1) + col\n",
    "            bottomright_corner_id = bottomleft_corner_id + 1\n",
    "            topleft_corner_id = bottomleft_corner_id + num_cols + 1\n",
    "            topright_corner_id = topleft_corner_id + 1\n",
    "            graph_connections.append((topleft_corner_id, curr_id))\n",
    "            graph_connections.append((topright_corner_id, curr_id))\n",
    "            graph_connections.append((bottomleft_corner_id, curr_id))\n",
    "            graph_connections.append((bottomright_corner_id, curr_id))\n",
    "            curr_id = curr_id + 1\n",
    "    \n",
    "    centers = range(num_centers)\n",
    "    corners = range(num_centers, num_centers + num_corners)\n",
    "    \n",
    "    graph = nx.Graph(graph_connections)\n",
    "    \n",
    "    return np.array(points), graph"
   ]
  },
  {
   "cell_type": "code",
   "execution_count": 9,
   "id": "c5eaf776-6f4a-4d5f-b664-782da3efe580",
   "metadata": {},
   "outputs": [],
   "source": [
    "def linear_chain(n_verts, direction):\n",
    "    points = []\n",
    "    for i in range(n_verts):\n",
    "        if direction == 'HORIZ':\n",
    "            points.append(np.array([i, 0]))\n",
    "        if direction == 'VERT':\n",
    "            points.append(np.array([0, i]))\n",
    "        if direction == 'DIAG':\n",
    "            points.append(np.array([i, i]) / np.sqrt(2)) \n",
    "            \n",
    "    graph = nx.Graph([(i, i+1) for i in range(n_verts - 1)])\n",
    "    return np.array(points), graph"
   ]
  },
  {
   "cell_type": "code",
   "execution_count": null,
   "id": "5c14302c-bbab-4d1b-93e7-0ad1d47f0dfd",
   "metadata": {},
   "outputs": [],
   "source": [
    "def lieb_lattice():\n",
    "    points = []\n",
    "    points.append(np.array([0, 0]))\n",
    "    points.append(np.array([1, 0]))\n",
    "    points.append(np.array([2, 0]))\n",
    "    points.append(np.array([1, 1]))\n",
    "    points.append(np.array([1, -1]))\n",
    "    \n",
    "    graph = nx.Graph()\n",
    "    \n",
    "    return np.array(points), graph"
   ]
  },
  {
   "cell_type": "code",
   "execution_count": null,
   "id": "769ff901-145a-439e-8cce-bb5c7c3177b8",
   "metadata": {},
   "outputs": [],
   "source": [
    "points, graph = square_lattice(6, 7)\n",
    "# points, graph = linear_chain(12, 'HORIZ')\n",
    "\n",
    "# print(f\"Points: {points}\")\n",
    "print(f\"# Points: {len(points)}\")\n",
    "plt.scatter(*zip(*(points)))\n",
    "plt.show()\n",
    "\n",
    "print(f\"Edges: {graph.edges}\")\n",
    "nx.draw(graph)"
   ]
  },
  {
   "cell_type": "code",
   "execution_count": 72,
   "id": "9487dd43-132b-4e66-ac15-47323ae7e79e",
   "metadata": {},
   "outputs": [
    {
     "name": "stdout",
     "output_type": "stream",
     "text": [
      "Unit Disk Radius: 1.4142135623730951\n",
      "Minimum Radius: 1.0\n",
      "Maximum Radius: 2.0\n"
     ]
    },
    {
     "data": {
      "image/png": "[encoded data removed]",
      "text/plain": [
       "<Figure size 432x288 with 1 Axes>"
      ]
     },
     "metadata": {},
     "output_type": "display_data"
    }
   ],
   "source": [
    "unitdisk_radius, min_radius, max_radius = find_UDG_radius(points, graph)\n",
    "print(f\"Unit Disk Radius: {unitdisk_radius}\\nMinimum Radius: {min_radius}\\nMaximum Radius: {max_radius}\")\n",
    "\n",
    "figure = plt.figure()\n",
    "axes = plt.subplot(1,1,1)\n",
    "visualize_graph(axes, graph, points)\n",
    "\n",
    "x0, y0 = (1,0)\n",
    "angles = np.linspace(np.pi/2,np.pi,1001)\n",
    "\n",
    "axes.plot(min_radius*np.cos(angles)+x0,min_radius*np.sin(angles)+y0,\n",
    "        linestyle=\":\",color=\"red\",label=\"$R_{min}$\")\n",
    "axes.plot(unitdisk_radius*np.cos(angles)+x0,unitdisk_radius*np.sin(angles)+y0,\n",
    "        linestyle=\"--\",color=\"red\",label=\"$\\sqrt{R_{max}R_{min}}$\")\n",
    "axes.plot(max_radius*np.cos(angles)+x0,max_radius*np.sin(angles)+y0,\n",
    "        linestyle=\"-\",color=\"red\",label=\"$R_{max}$\")\n",
    "\n",
    "axes.scatter(x0,y0,color=\"red\",zorder=3,marker=\"o\",s=350)\n",
    "axes.set_xlim((-0.25,10))\n",
    "\n",
    "plt.legend(loc=\"upper right\",)\n",
    "plt.show()"
   ]
  },
  {
   "cell_type": "code",
   "execution_count": 73,
   "id": "493d2b2f-8c33-4a66-bf84-c9c123bd3984",
   "metadata": {},
   "outputs": [
    {
     "name": "stdout",
     "output_type": "stream",
     "text": [
      "Blockade Radius: 8.044e-06m\n",
      "Unit Disk Radius: 1.414\n"
     ]
    },
    {
     "data": {
      "image/png": "[encoded data removed]",
      "text/plain": [
       "<Figure size 504x504 with 1 Axes>"
      ]
     },
     "metadata": {
      "needs_background": "light"
     },
     "output_type": "display_data"
    }
   ],
   "source": [
    "detuning_final = 20e6 # rad/sec\n",
    "\n",
    "# Find blockade radius\n",
    "blockade_radius = get_blockade_radius(detuning_final, 0) # no rabi amplitude at the end\n",
    "print('Blockade Radius: {:0.3e}m'.format(blockade_radius))\n",
    "print('Unit Disk Radius: {:0.3f}'.format(unitdisk_radius))\n",
    "\n",
    "# Compute scaling value a, which converts between logical and physical coordinates\n",
    "a = blockade_radius / unitdisk_radius\n",
    "\n",
    "# Generate the atom register\n",
    "register = AtomArrangement()\n",
    "for x in points:\n",
    "    register.add((a * x).round(7))\n",
    "\n",
    "# print(register)\n",
    "show_register(register, blockade_radius = blockade_radius)"
   ]
  },
  {
   "cell_type": "code",
   "execution_count": 74,
   "id": "9d1dbdef-fce7-4512-9aa0-f83488023329",
   "metadata": {},
   "outputs": [
    {
     "data": {
      "image/png": "[encoded data removed]",
      "text/plain": [
       "<Figure size 504x504 with 3 Axes>"
      ]
     },
     "metadata": {
      "needs_background": "light"
     },
     "output_type": "display_data"
    }
   ],
   "source": [
    "# Define a set of time points\n",
    "time_points = [0, 0.6e-6, 3.4e-6, 4e-6]\n",
    "\n",
    "# Define the strength of the transverse field Ω\n",
    "amplitude_min = 0\n",
    "amplitude_max = 10e6  # rad / sec\n",
    "\n",
    "# Define the strength of the detuning Δ\n",
    "detuning_initial = -20e6     # rad / sec\n",
    "detuning_final = detuning_final # Defined above\n",
    "\n",
    "amplitude_values = [amplitude_min, amplitude_max, amplitude_max, amplitude_min]  # piecewise linear\n",
    "detuning_values = [detuning_initial, detuning_initial, detuning_final, detuning_final]  # piecewise linear\n",
    "phase_values = [0, 0, 0, 0]  # piecewise constant\n",
    "\n",
    "# Define the drive\n",
    "drive = get_drive(time_points, amplitude_values, detuning_values, phase_values)\n",
    "show_global_drive(drive);"
   ]
  },
  {
   "cell_type": "code",
   "execution_count": 62,
   "id": "1a0ded22-14ab-4931-893c-5aa20dbb79d9",
   "metadata": {},
   "outputs": [],
   "source": [
    "ahs_program = AnalogHamiltonianSimulation(\n",
    "    register=register, \n",
    "    hamiltonian=drive\n",
    ")"
   ]
  },
  {
   "cell_type": "code",
   "execution_count": null,
   "id": "2ae2dfa6-f513-4c93-a40c-2accfd3006d0",
   "metadata": {},
   "outputs": [],
   "source": [
    "raise BaseException(\"Only run this cell when you are ready to submit your job.\")\n",
    "if points.size > 12:\n",
    "    raise BaseException(f\"Are you sure you want to simulate a {len(points)}-vert graph?\")\n",
    "device = LocalSimulator(\"braket_ahs\")\n",
    "ahs_run = device.run(ahs_program, shots=1)\n",
    "\n",
    "result  = ahs_run.result()\n",
    "save_result_json(\"square_lattice_mis.json\", result)"
   ]
  },
  {
   "cell_type": "code",
   "execution_count": null,
   "id": "95293a4c-51a3-410c-b62b-d8819a8f12f9",
   "metadata": {},
   "outputs": [],
   "source": [
    "raise BaseException(\"Only run this cell when you are ready to submit your job.\")\n",
    "#DO NOT RUN THIS UNLESS YOU ARE SURE\n",
    "nshots = 100\n",
    "task = qpu.run(ahs_program, shots=nshots)\n",
    "print(task)"
   ]
  },
  {
   "cell_type": "code",
   "execution_count": 75,
   "id": "d015b03e-994e-40ba-a3d9-f01c45e4725c",
   "metadata": {},
   "outputs": [
    {
     "data": {
      "image/png": "[encoded data removed]",
      "text/plain": [
       "<Figure size 1800x1080 with 3 Axes>"
      ]
     },
     "metadata": {},
     "output_type": "display_data"
    }
   ],
   "source": [
    "filename = \"horiz_graph_mis.json\"\n",
    "result_json = open_json(filename)\n",
    "num_measurements = len(result_json[\"measurements\"])\n",
    "sequences = [result_json[\"measurements\"][i][\"post_sequence\"] for i in [0,num_measurements-2,num_measurements-1]]\n",
    "\n",
    "fig = plt.figure(figsize=(25,15))\n",
    "for i in range(3):\n",
    "    ax = plt.subplot(1,3,i+1)\n",
    "    \n",
    "    color_lookup = {0:\"r\",1:'k'}\n",
    "    seqs_color = [color_lookup[sequences[i][j]] for j in range(len(sequences[i]))]\n",
    "    visualize_graph(ax,graph,points,node_colors = seqs_color)\n",
    "plt.show()"
   ]
  },
  {
   "cell_type": "code",
   "execution_count": 63,
   "id": "82ae19ae-38e0-4eae-805e-8c21e5a0f4ef",
   "metadata": {},
   "outputs": [
    {
     "ename": "IndexError",
     "evalue": "list index out of range",
     "output_type": "error",
     "traceback": [
      "\u001b[0;31m---------------------------------------------------------------------------\u001b[0m",
      "\u001b[0;31mIndexError\u001b[0m                                Traceback (most recent call last)",
      "Cell \u001b[0;32mIn[63], line 3\u001b[0m\n\u001b[1;32m      1\u001b[0m filename \u001b[38;5;241m=\u001b[39m \u001b[38;5;124m\"\u001b[39m\u001b[38;5;124mvert_graph_mis.json\u001b[39m\u001b[38;5;124m\"\u001b[39m\n\u001b[1;32m      2\u001b[0m result_json \u001b[38;5;241m=\u001b[39m open_json(filename)\n\u001b[0;32m----> 3\u001b[0m IS_sizes,pp_bitstrings \u001b[38;5;241m=\u001b[39m \u001b[43manalysis_MIS\u001b[49m\u001b[43m(\u001b[49m\u001b[43mgraph\u001b[49m\u001b[43m,\u001b[49m\u001b[43m \u001b[49m\u001b[43mresult_json\u001b[49m\u001b[43m)\u001b[49m\n\u001b[1;32m      5\u001b[0m ind, \u001b[38;5;241m=\u001b[39m np\u001b[38;5;241m.\u001b[39mwhere(IS_sizes\u001b[38;5;241m==\u001b[39mIS_sizes\u001b[38;5;241m.\u001b[39mmax())\n\u001b[1;32m      6\u001b[0m n_show \u001b[38;5;241m=\u001b[39m \u001b[38;5;28mmin\u001b[39m(\u001b[38;5;28mlen\u001b[39m(ind),\u001b[38;5;241m1\u001b[39m)\n",
      "File \u001b[0;32m~/2023_QuEra/work/utils.py:40\u001b[0m, in \u001b[0;36manalysis_MIS\u001b[0;34m(graph, result_json)\u001b[0m\n\u001b[1;32m     35\u001b[0m \u001b[38;5;124;03m'''\u001b[39;00m\n\u001b[1;32m     36\u001b[0m \u001b[38;5;124;03mHelper function to analyze a MIS result and plot data\u001b[39;00m\n\u001b[1;32m     37\u001b[0m \u001b[38;5;124;03m'''\u001b[39;00m\n\u001b[1;32m     39\u001b[0m post_bitstrings \u001b[38;5;241m=\u001b[39m np\u001b[38;5;241m.\u001b[39marray([q[\u001b[38;5;124m\"\u001b[39m\u001b[38;5;124mpost_sequence\u001b[39m\u001b[38;5;124m\"\u001b[39m] \u001b[38;5;28;01mfor\u001b[39;00m q \u001b[38;5;129;01min\u001b[39;00m result_json[\u001b[38;5;124m\"\u001b[39m\u001b[38;5;124mmeasurements\u001b[39m\u001b[38;5;124m\"\u001b[39m]])\n\u001b[0;32m---> 40\u001b[0m pp_bitstrings \u001b[38;5;241m=\u001b[39m \u001b[43mpostprocess_MIS\u001b[49m\u001b[43m(\u001b[49m\u001b[43mgraph\u001b[49m\u001b[43m,\u001b[49m\u001b[43m \u001b[49m\u001b[43mresult_json\u001b[49m\u001b[43m)\u001b[49m\n\u001b[1;32m     43\u001b[0m IS_sizes \u001b[38;5;241m=\u001b[39m np\u001b[38;5;241m.\u001b[39msum(\u001b[38;5;241m1\u001b[39m\u001b[38;5;241m-\u001b[39mpp_bitstrings,axis\u001b[38;5;241m=\u001b[39m\u001b[38;5;241m1\u001b[39m)\n\u001b[1;32m     44\u001b[0m unique_IS_sizes,counts \u001b[38;5;241m=\u001b[39m np\u001b[38;5;241m.\u001b[39munique(IS_sizes,return_counts\u001b[38;5;241m=\u001b[39m\u001b[38;5;28;01mTrue\u001b[39;00m)\n",
      "File \u001b[0;32m~/2023_QuEra/work/utils.py:24\u001b[0m, in \u001b[0;36mpostprocess_MIS\u001b[0;34m(G, results)\u001b[0m\n\u001b[1;32m     22\u001b[0m inds \u001b[38;5;241m=\u001b[39m np\u001b[38;5;241m.\u001b[39mnonzero(bitstring\u001b[38;5;241m==\u001b[39m\u001b[38;5;241m0\u001b[39m)[\u001b[38;5;241m0\u001b[39m]    \u001b[38;5;66;03m# Find indices of IS vertices\u001b[39;00m\n\u001b[1;32m     23\u001b[0m subgraph \u001b[38;5;241m=\u001b[39m nx\u001b[38;5;241m.\u001b[39msubgraph(G,inds)        \u001b[38;5;66;03m# Generate a subgraph from those vertices. If the bitstring is an independent set, this subgraph has no edges.\u001b[39;00m\n\u001b[0;32m---> 24\u001b[0m inds2 \u001b[38;5;241m=\u001b[39m \u001b[43mnx\u001b[49m\u001b[38;5;241;43m.\u001b[39;49m\u001b[43mmaximal_independent_set\u001b[49m\u001b[43m(\u001b[49m\u001b[43msubgraph\u001b[49m\u001b[43m,\u001b[49m\u001b[43mseed\u001b[49m\u001b[38;5;241;43m=\u001b[39;49m\u001b[38;5;241;43m0\u001b[39;49m\u001b[43m)\u001b[49m \u001b[38;5;66;03m# Find the mIS of this subgraph. If there are no edges, it is the original bitstring. Else, it randomly chooses within each graph.\u001b[39;00m\n\u001b[1;32m     25\u001b[0m payload \u001b[38;5;241m=\u001b[39m np\u001b[38;5;241m.\u001b[39mones(\u001b[38;5;28mlen\u001b[39m(bitstring))     \u001b[38;5;66;03m# Forge into the correct data structure (a list of 1s and 0s)\u001b[39;00m\n\u001b[1;32m     26\u001b[0m payload[inds2] \u001b[38;5;241m=\u001b[39m \u001b[38;5;241m0\u001b[39m\n",
      "File \u001b[0;32m<class 'networkx.utils.decorators.argmap'> compilation 17:5\u001b[0m, in \u001b[0;36margmap_maximal_independent_set_13\u001b[0;34m(G, nodes, seed)\u001b[0m\n\u001b[1;32m      3\u001b[0m \u001b[38;5;28;01mimport\u001b[39;00m \u001b[38;5;21;01mgzip\u001b[39;00m\n\u001b[1;32m      4\u001b[0m \u001b[38;5;28;01mimport\u001b[39;00m \u001b[38;5;21;01minspect\u001b[39;00m\n\u001b[0;32m----> 5\u001b[0m \u001b[38;5;28;01mimport\u001b[39;00m \u001b[38;5;21;01mitertools\u001b[39;00m\n\u001b[1;32m      6\u001b[0m \u001b[38;5;28;01mimport\u001b[39;00m \u001b[38;5;21;01mre\u001b[39;00m\n\u001b[1;32m      7\u001b[0m \u001b[38;5;28;01mfrom\u001b[39;00m \u001b[38;5;21;01mcollections\u001b[39;00m \u001b[38;5;28;01mimport\u001b[39;00m defaultdict\n",
      "File \u001b[0;32m~/.qbraid/environments/aws_braket_kwx6dl/pyenv/lib/python3.9/site-packages/networkx/algorithms/mis.py:62\u001b[0m, in \u001b[0;36mmaximal_independent_set\u001b[0;34m(G, nodes, seed)\u001b[0m\n\u001b[1;32m     14\u001b[0m \u001b[38;5;124;03m\"\"\"Returns a random maximal independent set guaranteed to contain\u001b[39;00m\n\u001b[1;32m     15\u001b[0m \u001b[38;5;124;03ma given set of nodes.\u001b[39;00m\n\u001b[1;32m     16\u001b[0m \n\u001b[0;32m   (...)\u001b[0m\n\u001b[1;32m     59\u001b[0m \n\u001b[1;32m     60\u001b[0m \u001b[38;5;124;03m\"\"\"\u001b[39;00m\n\u001b[1;32m     61\u001b[0m \u001b[38;5;28;01mif\u001b[39;00m \u001b[38;5;129;01mnot\u001b[39;00m nodes:\n\u001b[0;32m---> 62\u001b[0m     nodes \u001b[38;5;241m=\u001b[39m {\u001b[43mseed\u001b[49m\u001b[38;5;241;43m.\u001b[39;49m\u001b[43mchoice\u001b[49m\u001b[43m(\u001b[49m\u001b[38;5;28;43mlist\u001b[39;49m\u001b[43m(\u001b[49m\u001b[43mG\u001b[49m\u001b[43m)\u001b[49m\u001b[43m)\u001b[49m}\n\u001b[1;32m     63\u001b[0m \u001b[38;5;28;01melse\u001b[39;00m:\n\u001b[1;32m     64\u001b[0m     nodes \u001b[38;5;241m=\u001b[39m \u001b[38;5;28mset\u001b[39m(nodes)\n",
      "File \u001b[0;32m/opt/conda/lib/python3.9/random.py:346\u001b[0m, in \u001b[0;36mRandom.choice\u001b[0;34m(self, seq)\u001b[0m\n\u001b[1;32m    344\u001b[0m \u001b[38;5;124;03m\"\"\"Choose a random element from a non-empty sequence.\"\"\"\u001b[39;00m\n\u001b[1;32m    345\u001b[0m \u001b[38;5;66;03m# raises IndexError if seq is empty\u001b[39;00m\n\u001b[0;32m--> 346\u001b[0m \u001b[38;5;28;01mreturn\u001b[39;00m \u001b[43mseq\u001b[49m\u001b[43m[\u001b[49m\u001b[38;5;28;43mself\u001b[39;49m\u001b[38;5;241;43m.\u001b[39;49m\u001b[43m_randbelow\u001b[49m\u001b[43m(\u001b[49m\u001b[38;5;28;43mlen\u001b[39;49m\u001b[43m(\u001b[49m\u001b[43mseq\u001b[49m\u001b[43m)\u001b[49m\u001b[43m)\u001b[49m\u001b[43m]\u001b[49m\n",
      "\u001b[0;31mIndexError\u001b[0m: list index out of range"
     ]
    }
   ],
   "source": [
    "filename = \"vert_graph_mis.json\"\n",
    "result_json = open_json(filename)\n",
    "IS_sizes,pp_bitstrings = analysis_MIS(graph, result_json)\n",
    "\n",
    "ind, = np.where(IS_sizes==IS_sizes.max())\n",
    "n_show = min(len(ind),1)\n",
    "\n",
    "figure = plt.figure(figsize=(25,15))\n",
    "for i in range(n_show):\n",
    "    axes = plt.subplot(1,n_show,i+1)\n",
    "\n",
    "    color_lookup = {0:\"r\",1:'k'}\n",
    "    seqs_color = [color_lookup[pp_bitstrings[ind[i]][j]] for j in range(len(pp_bitstrings[ind[i]]))]\n",
    "    visualize_graph(axes, graph, {a: points[a] for a in range(len(points))}, node_colors = seqs_color)\n",
    "    \n",
    "    # print(np.where(pp_bitstrings[ind[i]]==0)[0])\n",
    "    # print(seqs_color)\n",
    "    \n",
    "plt.show()"
   ]
  }
 ],
 "metadata": {
  "kernelspec": {
   "display_name": "Python 3 [Braket]",
   "language": "python",
   "name": "python3_aws_braket_kwx6dl"
  },
  "language_info": {
   "codemirror_mode": {
    "name": "ipython",
    "version": 3
   },
   "file_extension": ".py",
   "mimetype": "text/x-python",
   "name": "python",
   "nbconvert_exporter": "python",
   "pygments_lexer": "ipython3",
   "version": "3.9.10"
  }
 },
 "nbformat": 4,
 "nbformat_minor": 5
}
