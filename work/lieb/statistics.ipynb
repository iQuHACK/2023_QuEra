{
 "cells": [
  {
   "cell_type": "code",
   "execution_count": 6,
   "id": "e5980022-2640-4067-847d-65825707ce10",
   "metadata": {},
   "outputs": [],
   "source": [
    "import matplotlib.pyplot as plt\n",
    "import numpy as np\n",
    "\n",
    "from iquhack_utils import find_UDG_radius, visualize_graph, get_blockade_radius, get_graph_from_blockade_radius, C6, save_result_json, open_json\n",
    "\n",
    "from utils import postprocess_MIS, analysis_MIS"
   ]
  },
  {
   "cell_type": "code",
   "execution_count": 7,
   "id": "49ac5962-593c-4a59-9d1b-566002ee670a",
   "metadata": {},
   "outputs": [],
   "source": [
    "def lieb_lattice(num_rows=1, num_columns=1):\n",
    "    points = []\n",
    "    \n",
    "    for x in range(1, (num_columns + 1) * 2, 2):\n",
    "        for y in range(1, (num_rows + 1) * 2, 2):\n",
    "            center = np.array([x, y])\n",
    "            points.append(center)\n",
    "            points.append(center + np.array([0, 1]))\n",
    "            points.append(center + np.array([0, -1]))\n",
    "            points.append(center + np.array([1, 0]))\n",
    "            points.append(center + np.array([-1, 0]))\n",
    "    \n",
    "    points = np.unique(np.array(points), axis=0)\n",
    "    \n",
    "    return points"
   ]
  },
  {
   "cell_type": "code",
   "execution_count": 8,
   "id": "910ea230-caec-4566-9338-84b50be65958",
   "metadata": {},
   "outputs": [
    {
     "name": "stdout",
     "output_type": "stream",
     "text": [
      "# Points: 100\n"
     ]
    },
    {
     "data": {
      "image/png": "[encoded data removed]",
      "text/plain": [
       "<Figure size 432x288 with 1 Axes>"
      ]
     },
     "metadata": {
      "needs_background": "light"
     },
     "output_type": "display_data"
    }
   ],
   "source": [
    "points = lieb_lattice(num_rows=4, num_columns=5)\n",
    "points = np.delete(points, 40, axis=0)\n",
    "\n",
    "# print(f\"Points: {points}\")\n",
    "print(f\"# Points: {len(points)}\")\n",
    "plt.scatter(*zip(*(points)))\n",
    "plt.show()"
   ]
  },
  {
   "cell_type": "code",
   "execution_count": 20,
   "id": "38ea928f-0955-407d-b284-3fbe91a6c11d",
   "metadata": {},
   "outputs": [],
   "source": [
    "filenames = [\"r=1.03, df=80e6, a=15.8, nshots=50.json\", \"r=1.03, df=80e6, a=15.8.json\"]\n",
    "task_results = []\n",
    "for filename in filenames:\n",
    "    result_json = open_json(filename)\n",
    "    IS_sizes,pp_bitstrings = analysis_MIS(graph, result_json)\n",
    "    sequences = [q[\"post_sequence\"] for q in result_json[\"measurements\"]]\n",
    "    task_results.append(np.array(sequences))\n",
    "all_measurements = np.vstack(task_results)\n"
   ]
  },
  {
   "cell_type": "code",
   "execution_count": 22,
   "id": "9a870b1e-ea96-4364-910b-9c6cad6f014b",
   "metadata": {},
   "outputs": [
    {
     "data": {
      "text/plain": [
       "array([[0, 0, 0, ..., 0, 0, 0],\n",
       "       [0, 0, 0, ..., 0, 0, 0],\n",
       "       [0, 0, 0, ..., 0, 0, 0],\n",
       "       ...,\n",
       "       [0, 1, 1, ..., 0, 0, 0],\n",
       "       [0, 0, 0, ..., 0, 0, 0],\n",
       "       [0, 0, 0, ..., 0, 0, 0]])"
      ]
     },
     "execution_count": 22,
     "metadata": {},
     "output_type": "execute_result"
    }
   ],
   "source": [
    "all_measurements."
   ]
  },
  {
   "cell_type": "code",
   "execution_count": null,
   "id": "d5941875-dd9c-4b54-94d2-519dda2abe8a",
   "metadata": {},
   "outputs": [],
   "source": []
  }
 ],
 "metadata": {
  "kernelspec": {
   "display_name": "Python 3 [Braket]",
   "language": "python",
   "name": "python3_aws_braket_kwx6dl"
  },
  "language_info": {
   "codemirror_mode": {
    "name": "ipython",
    "version": 3
   },
   "file_extension": ".py",
   "mimetype": "text/x-python",
   "name": "python",
   "nbconvert_exporter": "python",
   "pygments_lexer": "ipython3",
   "version": "3.9.10"
  }
 },
 "nbformat": 4,
 "nbformat_minor": 5
}
