{
 "cells": [
  {
   "attachments": {},
   "cell_type": "markdown",
   "metadata": {},
   "source": [
    "# Chains\n",
    "A linear chain of three Rydberg atoms separated by the Rydberg blockade radius has the following form:\n",
    "$$\n",
    "H = \\Omega(t)(\\sigma^x_1+\\sigma^x_2+\\sigma_3^x) - \\Delta(t)(n_1+n_2+n_3) + V(n_1n_2+n_2 n_3)\n",
    "$$\n",
    "How is the $|010\\rangle$ energy state favored over the $|101\\rangle$ state as a function of the detuning?"
   ]
  },
  {
   "cell_type": "code",
   "execution_count": 118,
   "metadata": {},
   "outputs": [],
   "source": [
    "from qutip import sigmax, sigmaz, tensor, identity, basis\n",
    "\n",
    "def n():\n",
    "    return (1-sigmaz())/2\n",
    "\n",
    "Omega = 10\n",
    "delta = 0\n",
    "V = 10\n",
    "\n",
    "sigmax1 = tensor(sigmax(), identity(2), identity(2))\n",
    "sigmax2 = tensor(identity(2), sigmax(), identity(2))\n",
    "sigmax3 = tensor(identity(2), identity(2), sigmax())\n",
    "\n",
    "n1 = tensor(n(), identity(2), identity(2))\n",
    "n2 = tensor(identity(2), n(), identity(2))\n",
    "n3 = tensor(identity(2), identity(2), n())"
   ]
  },
  {
   "cell_type": "code",
   "execution_count": 119,
   "metadata": {},
   "outputs": [
    {
     "data": {
      "text/latex": [
       "Quantum object: dims = [[2, 2, 2], [2, 2, 2]], shape = (8, 8), type = oper, isherm = True\\begin{equation*}\\left(\\begin{array}{*{11}c}0.0 & 10.0 & 10.0 & 0.0 & 10.0 & 0.0 & 0.0 & 0.0\\\\10.0 & 0.0 & 0.0 & 10.0 & 0.0 & 10.0 & 0.0 & 0.0\\\\10.0 & 0.0 & 0.0 & 10.0 & 0.0 & 0.0 & 10.0 & 0.0\\\\0.0 & 10.0 & 10.0 & 1.0 & 0.0 & 0.0 & 0.0 & 10.0\\\\10.0 & 0.0 & 0.0 & 0.0 & 0.0 & 10.0 & 10.0 & 0.0\\\\0.0 & 10.0 & 0.0 & 0.0 & 10.0 & 0.0 & 0.0 & 10.0\\\\0.0 & 0.0 & 10.0 & 0.0 & 10.0 & 0.0 & 1.0 & 10.0\\\\0.0 & 0.0 & 0.0 & 10.0 & 0.0 & 10.0 & 10.0 & 2.0\\\\\\end{array}\\right)\\end{equation*}"
      ],
      "text/plain": [
       "Quantum object: dims = [[2, 2, 2], [2, 2, 2]], shape = (8, 8), type = oper, isherm = True\n",
       "Qobj data =\n",
       "[[ 0. 10. 10.  0. 10.  0.  0.  0.]\n",
       " [10.  0.  0. 10.  0. 10.  0.  0.]\n",
       " [10.  0.  0. 10.  0.  0. 10.  0.]\n",
       " [ 0. 10. 10.  1.  0.  0.  0. 10.]\n",
       " [10.  0.  0.  0.  0. 10. 10.  0.]\n",
       " [ 0. 10.  0.  0. 10.  0.  0. 10.]\n",
       " [ 0.  0. 10.  0. 10.  0.  1. 10.]\n",
       " [ 0.  0.  0. 10.  0. 10. 10.  2.]]"
      ]
     },
     "execution_count": 119,
     "metadata": {},
     "output_type": "execute_result"
    }
   ],
   "source": [
    "H"
   ]
  },
  {
   "cell_type": "code",
   "execution_count": 120,
   "metadata": {},
   "outputs": [],
   "source": [
    "H = Omega * (sigmax1 + sigmax2 + sigmax3) - delta*(n1 + n2 + n3) + V * (n1*n2 + n2*n3)"
   ]
  },
  {
   "cell_type": "code",
   "execution_count": 121,
   "metadata": {},
   "outputs": [],
   "source": [
    "evals, estates = H.eigenstates()"
   ]
  },
  {
   "cell_type": "code",
   "execution_count": 122,
   "metadata": {},
   "outputs": [
    {
     "data": {
      "text/plain": [
       "array([-26.63527074,  -8.91833299,  -6.18033989,  -2.53355947,\n",
       "        11.98203806,  16.18033989,  18.3792747 ,  37.72585044])"
      ]
     },
     "execution_count": 122,
     "metadata": {},
     "output_type": "execute_result"
    }
   ],
   "source": [
    "evals"
   ]
  },
  {
   "cell_type": "code",
   "execution_count": 123,
   "metadata": {},
   "outputs": [
    {
     "data": {
      "text/plain": [
       "array([Quantum object: dims = [[2, 2, 2], [1, 1, 1]], shape = (8, 1), type = ket\n",
       "       Qobj data =\n",
       "       [[ 0.4469441 ]\n",
       "        [-0.41137636]\n",
       "        [-0.36769499]\n",
       "        [ 0.26621073]\n",
       "        [-0.41137636]\n",
       "        [ 0.38255725]\n",
       "        [ 0.26621073]\n",
       "        [-0.19619886]]                                                          ,\n",
       "       Quantum object: dims = [[2, 2, 2], [1, 1, 1]], shape = (8, 1), type = ket\n",
       "       Qobj data =\n",
       "       [[-0.2200967 ]\n",
       "        [-0.22554686]\n",
       "        [ 0.64738328]\n",
       "        [-0.17863063]\n",
       "        [-0.22554686]\n",
       "        [ 0.59987753]\n",
       "        [-0.17863063]\n",
       "        [-0.08389704]]                                                          ,\n",
       "       Quantum object: dims = [[2, 2, 2], [1, 1, 1]], shape = (8, 1), type = ket\n",
       "       Qobj data =\n",
       "       [[ 0.        ]\n",
       "        [-0.60150096]\n",
       "        [ 0.        ]\n",
       "        [ 0.37174803]\n",
       "        [ 0.60150096]\n",
       "        [ 0.        ]\n",
       "        [-0.37174803]\n",
       "        [ 0.        ]]                                                          ,\n",
       "       Quantum object: dims = [[2, 2, 2], [1, 1, 1]], shape = (8, 1), type = ket\n",
       "       Qobj data =\n",
       "       [[-0.64571891]\n",
       "        [ 0.17823701]\n",
       "        [-0.19287729]\n",
       "        [ 0.34729276]\n",
       "        [ 0.17823701]\n",
       "        [ 0.25326875]\n",
       "        [ 0.34729276]\n",
       "        [-0.42064116]]                                                          ,\n",
       "       Quantum object: dims = [[2, 2, 2], [1, 1, 1]], shape = (8, 1), type = ket\n",
       "       Qobj data =\n",
       "       [[ 0.10755818]\n",
       "        [ 0.30052757]\n",
       "        [-0.47217851]\n",
       "        [-0.33666214]\n",
       "        [ 0.30052757]\n",
       "        [ 0.58919723]\n",
       "        [-0.33666214]\n",
       "        [ 0.10492323]]                                                          ,\n",
       "       Quantum object: dims = [[2, 2, 2], [1, 1, 1]], shape = (8, 1), type = ket\n",
       "       Qobj data =\n",
       "       [[ 0.        ]\n",
       "        [-0.37174803]\n",
       "        [ 0.        ]\n",
       "        [-0.60150096]\n",
       "        [ 0.37174803]\n",
       "        [ 0.        ]\n",
       "        [ 0.60150096]\n",
       "        [ 0.        ]]                                                          ,\n",
       "       Quantum object: dims = [[2, 2, 2], [1, 1, 1]], shape = (8, 1), type = ket\n",
       "       Qobj data =\n",
       "       [[ 0.5344198 ]\n",
       "        [ 0.32105133]\n",
       "        [ 0.34012217]\n",
       "        [ 0.04535004]\n",
       "        [ 0.32105133]\n",
       "        [ 0.01029921]\n",
       "        [ 0.04535004]\n",
       "        [-0.62317345]]                                                          ,\n",
       "       Quantum object: dims = [[2, 2, 2], [1, 1, 1]], shape = (8, 1), type = ket\n",
       "       Qobj data =\n",
       "       [[-0.19409332]\n",
       "        [-0.23396346]\n",
       "        [-0.26430663]\n",
       "        [-0.40151297]\n",
       "        [-0.23396346]\n",
       "        [-0.28704076]\n",
       "        [-0.40151297]\n",
       "        [-0.61495875]]                                                          ],\n",
       "      dtype=object)"
      ]
     },
     "execution_count": 123,
     "metadata": {},
     "output_type": "execute_result"
    }
   ],
   "source": [
    "estates"
   ]
  }
 ],
 "metadata": {
  "kernelspec": {
   "display_name": "quera",
   "language": "python",
   "name": "python3"
  },
  "language_info": {
   "codemirror_mode": {
    "name": "ipython",
    "version": 3
   },
   "file_extension": ".py",
   "mimetype": "text/x-python",
   "name": "python",
   "nbconvert_exporter": "python",
   "pygments_lexer": "ipython3",
   "version": "3.10.9"
  },
  "orig_nbformat": 4,
  "vscode": {
   "interpreter": {
    "hash": "820de3379c6a0c88e8a13e1503ee06aa36fc851f8ff49d5c8249e8714c6d8d78"
   }
  }
 },
 "nbformat": 4,
 "nbformat_minor": 2
}
