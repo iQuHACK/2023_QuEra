{
 "cells": [
  {
   "cell_type": "code",
   "execution_count": 18,
   "metadata": {},
   "outputs": [],
   "source": [
    "import tkinter as tk\n",
    "import time"
   ]
  },
  {
   "cell_type": "code",
   "execution_count": 24,
   "metadata": {},
   "outputs": [],
   "source": [
    "class Node(object):\n",
    "    def __init__(self, canvas):\n",
    "        self.canvas = canvas\n",
    "        self.id = canvas.create_oval(10,10,20,20)\n",
    "        self.vx = 2\n",
    "        self.vy = 1\n",
    "    def move(self):\n",
    "        x1, y1, x2, y2 = self.canvas.bbox(self.id)\n",
    "        if x1>400 or x1<0:\n",
    "            self.vx *= -1\n",
    "        if y1>400 or y1<0:\n",
    "            self.vy *= -1\n",
    "        self.canvas.move(self.id, self.vx,self.vy)"
   ]
  },
  {
   "cell_type": "code",
   "execution_count": 25,
   "metadata": {},
   "outputs": [],
   "source": [
    "class Window(object):\n",
    "    def __init__(self, master):\n",
    "        self.master = master\n",
    "        self.canvas = tk.Canvas(self.master, width=400, height=400)\n",
    "        self.canvas.pack()\n",
    "        self.nodes =[Node(self.canvas)]\n",
    "        self.canvas.pack()\n",
    "        self.master.after(0, self.animation)\n",
    "    def addNode(self):\n",
    "        self.nodes.append()\n",
    "    def animation(self):\n",
    "        for node in self.nodes:\n",
    "            node.move()\n",
    "        self.master.after(12, self.animation)"
   ]
  },
  {
   "cell_type": "code",
   "execution_count": 26,
   "metadata": {},
   "outputs": [],
   "source": [
    "root = tk.Tk()\n",
    "win = Window(root)\n",
    "root.mainloop()"
   ]
  },
  {
   "cell_type": "code",
   "execution_count": null,
   "metadata": {},
   "outputs": [],
   "source": []
  }
 ],
 "metadata": {
  "kernelspec": {
   "display_name": "qutip-env",
   "language": "python",
   "name": "qutip-env"
  },
  "language_info": {
   "codemirror_mode": {
    "name": "ipython",
    "version": 3
   },
   "file_extension": ".py",
   "mimetype": "text/x-python",
   "name": "python",
   "nbconvert_exporter": "python",
   "pygments_lexer": "ipython3",
   "version": "3.10.9"
  },
  "orig_nbformat": 4,
  "vscode": {
   "interpreter": {
    "hash": "3fd0071ef4f8569544a055e8470bbe90bb91618e2618286e8bc99d6cb58c7a5c"
   }
  }
 },
 "nbformat": 4,
 "nbformat_minor": 2
}
